{
  "cells": [
    {
      "cell_type": "markdown",
      "metadata": {
        "colab_type": "text",
        "id": "view-in-github"
      },
      "source": [
        "<a href=\"https://colab.research.google.com/github/frankwillard/NBA-Web-Scraper-And-ANN/blob/main/NBA_Decision_Tree.ipynb\" target=\"_parent\"><img src=\"https://colab.research.google.com/assets/colab-badge.svg\" alt=\"Open In Colab\"/></a>"
      ]
    },
    {
      "cell_type": "markdown",
      "metadata": {
        "id": "0MRC0e0KhQ0S"
      },
      "source": [
        "# Decision Tree Classification"
      ]
    },
    {
      "cell_type": "markdown",
      "metadata": {
        "id": "LWd1UlMnhT2s"
      },
      "source": [
        "## Importing the libraries"
      ]
    },
    {
      "cell_type": "code",
      "execution_count": 2,
      "metadata": {
        "id": "YvGPUQaHhXfL"
      },
      "outputs": [],
      "source": [
        "import numpy as np\n",
        "import matplotlib.pyplot as plt\n",
        "import pandas as pd"
      ]
    },
    {
      "cell_type": "markdown",
      "metadata": {
        "id": "K1VMqkGvhc3-"
      },
      "source": [
        "## Importing and viewing the dataset"
      ]
    },
    {
      "cell_type": "code",
      "execution_count": 3,
      "metadata": {
        "colab": {
          "base_uri": "https://localhost:8080/",
          "height": 280
        },
        "id": "M52QDmyzhh9s",
        "outputId": "4b79a0aa-a185-4c16-fe80-b93a31debe46"
      },
      "outputs": [
        {
          "data": {
            "text/html": [
              "<div>\n",
              "<style scoped>\n",
              "    .dataframe tbody tr th:only-of-type {\n",
              "        vertical-align: middle;\n",
              "    }\n",
              "\n",
              "    .dataframe tbody tr th {\n",
              "        vertical-align: top;\n",
              "    }\n",
              "\n",
              "    .dataframe thead th {\n",
              "        text-align: right;\n",
              "    }\n",
              "</style>\n",
              "<table border=\"1\" class=\"dataframe\">\n",
              "  <thead>\n",
              "    <tr style=\"text-align: right;\">\n",
              "      <th></th>\n",
              "      <th>Year</th>\n",
              "      <th>Team</th>\n",
              "      <th>Age</th>\n",
              "      <th>W</th>\n",
              "      <th>L</th>\n",
              "      <th>PW</th>\n",
              "      <th>PL</th>\n",
              "      <th>MOV</th>\n",
              "      <th>SOS</th>\n",
              "      <th>SRS</th>\n",
              "      <th>...</th>\n",
              "      <th>DRB%</th>\n",
              "      <th>DFT/FGA</th>\n",
              "      <th>Arena</th>\n",
              "      <th>Attend.</th>\n",
              "      <th>Playoffs</th>\n",
              "      <th>W/L%</th>\n",
              "      <th>Losing_season</th>\n",
              "      <th>Champion</th>\n",
              "      <th>won_last</th>\n",
              "      <th>won_last_3</th>\n",
              "    </tr>\n",
              "  </thead>\n",
              "  <tbody>\n",
              "    <tr>\n",
              "      <th>0</th>\n",
              "      <td>1990.0</td>\n",
              "      <td>Atlanta Hawks</td>\n",
              "      <td>28.6</td>\n",
              "      <td>41.0</td>\n",
              "      <td>41.0</td>\n",
              "      <td>44.0</td>\n",
              "      <td>38.0</td>\n",
              "      <td>1.02</td>\n",
              "      <td>-0.39</td>\n",
              "      <td>0.64</td>\n",
              "      <td>...</td>\n",
              "      <td>65.5</td>\n",
              "      <td>0.254</td>\n",
              "      <td>Omni Coliseum</td>\n",
              "      <td>573711.0</td>\n",
              "      <td>N</td>\n",
              "      <td>0.500000</td>\n",
              "      <td>N</td>\n",
              "      <td>N</td>\n",
              "      <td>N</td>\n",
              "      <td>N</td>\n",
              "    </tr>\n",
              "    <tr>\n",
              "      <th>1</th>\n",
              "      <td>1990.0</td>\n",
              "      <td>Boston Celtics</td>\n",
              "      <td>30.2</td>\n",
              "      <td>52.0</td>\n",
              "      <td>30.0</td>\n",
              "      <td>51.0</td>\n",
              "      <td>31.0</td>\n",
              "      <td>3.99</td>\n",
              "      <td>-0.76</td>\n",
              "      <td>3.23</td>\n",
              "      <td>...</td>\n",
              "      <td>72.1</td>\n",
              "      <td>0.223</td>\n",
              "      <td>Boston Garden</td>\n",
              "      <td>611537.0</td>\n",
              "      <td>Y</td>\n",
              "      <td>0.634146</td>\n",
              "      <td>N</td>\n",
              "      <td>N</td>\n",
              "      <td>N</td>\n",
              "      <td>N</td>\n",
              "    </tr>\n",
              "    <tr>\n",
              "      <th>2</th>\n",
              "      <td>1990.0</td>\n",
              "      <td>Charlotte Hornets</td>\n",
              "      <td>25.6</td>\n",
              "      <td>19.0</td>\n",
              "      <td>63.0</td>\n",
              "      <td>21.0</td>\n",
              "      <td>61.0</td>\n",
              "      <td>-7.82</td>\n",
              "      <td>0.81</td>\n",
              "      <td>-7.00</td>\n",
              "      <td>...</td>\n",
              "      <td>67.5</td>\n",
              "      <td>0.269</td>\n",
              "      <td>Charlotte Coliseum</td>\n",
              "      <td>979941.0</td>\n",
              "      <td>N</td>\n",
              "      <td>0.231707</td>\n",
              "      <td>Y</td>\n",
              "      <td>N</td>\n",
              "      <td>N</td>\n",
              "      <td>N</td>\n",
              "    </tr>\n",
              "    <tr>\n",
              "      <th>3</th>\n",
              "      <td>1990.0</td>\n",
              "      <td>Chicago Bulls</td>\n",
              "      <td>26.1</td>\n",
              "      <td>55.0</td>\n",
              "      <td>27.0</td>\n",
              "      <td>50.0</td>\n",
              "      <td>32.0</td>\n",
              "      <td>3.26</td>\n",
              "      <td>-0.51</td>\n",
              "      <td>2.74</td>\n",
              "      <td>...</td>\n",
              "      <td>68.1</td>\n",
              "      <td>0.262</td>\n",
              "      <td>Chicago Stadium</td>\n",
              "      <td>752564.0</td>\n",
              "      <td>Y</td>\n",
              "      <td>0.670732</td>\n",
              "      <td>N</td>\n",
              "      <td>N</td>\n",
              "      <td>N</td>\n",
              "      <td>N</td>\n",
              "    </tr>\n",
              "    <tr>\n",
              "      <th>4</th>\n",
              "      <td>1990.0</td>\n",
              "      <td>Cleveland Cavaliers</td>\n",
              "      <td>26.1</td>\n",
              "      <td>42.0</td>\n",
              "      <td>40.0</td>\n",
              "      <td>40.0</td>\n",
              "      <td>42.0</td>\n",
              "      <td>-0.30</td>\n",
              "      <td>-0.31</td>\n",
              "      <td>-0.62</td>\n",
              "      <td>...</td>\n",
              "      <td>67.7</td>\n",
              "      <td>0.202</td>\n",
              "      <td>Coliseum at Richfield</td>\n",
              "      <td>695710.0</td>\n",
              "      <td>Y</td>\n",
              "      <td>0.512195</td>\n",
              "      <td>N</td>\n",
              "      <td>N</td>\n",
              "      <td>N</td>\n",
              "      <td>N</td>\n",
              "    </tr>\n",
              "  </tbody>\n",
              "</table>\n",
              "<p>5 rows × 33 columns</p>\n",
              "</div>"
            ],
            "text/plain": [
              "     Year                 Team   Age     W     L    PW    PL   MOV   SOS  \\\n",
              "0  1990.0        Atlanta Hawks  28.6  41.0  41.0  44.0  38.0  1.02 -0.39   \n",
              "1  1990.0       Boston Celtics  30.2  52.0  30.0  51.0  31.0  3.99 -0.76   \n",
              "2  1990.0    Charlotte Hornets  25.6  19.0  63.0  21.0  61.0 -7.82  0.81   \n",
              "3  1990.0        Chicago Bulls  26.1  55.0  27.0  50.0  32.0  3.26 -0.51   \n",
              "4  1990.0  Cleveland Cavaliers  26.1  42.0  40.0  40.0  42.0 -0.30 -0.31   \n",
              "\n",
              "    SRS  ...  DRB%  DFT/FGA                  Arena   Attend.  Playoffs  \\\n",
              "0  0.64  ...  65.5    0.254          Omni Coliseum  573711.0         N   \n",
              "1  3.23  ...  72.1    0.223          Boston Garden  611537.0         Y   \n",
              "2 -7.00  ...  67.5    0.269     Charlotte Coliseum  979941.0         N   \n",
              "3  2.74  ...  68.1    0.262        Chicago Stadium  752564.0         Y   \n",
              "4 -0.62  ...  67.7    0.202  Coliseum at Richfield  695710.0         Y   \n",
              "\n",
              "       W/L%  Losing_season  Champion  won_last  won_last_3  \n",
              "0  0.500000              N         N         N           N  \n",
              "1  0.634146              N         N         N           N  \n",
              "2  0.231707              Y         N         N           N  \n",
              "3  0.670732              N         N         N           N  \n",
              "4  0.512195              N         N         N           N  \n",
              "\n",
              "[5 rows x 33 columns]"
            ]
          },
          "execution_count": 3,
          "metadata": {},
          "output_type": "execute_result"
        }
      ],
      "source": [
        "dataset = pd.read_csv('data/nba_team_advanced_data.csv')\n",
        "dataset.head()"
      ]
    },
    {
      "cell_type": "code",
      "execution_count": 4,
      "metadata": {
        "id": "0qMDw5isbNPy"
      },
      "outputs": [],
      "source": [
        "dataset = dataset[dataset[\"Playoffs\"] == \"Y\"]"
      ]
    },
    {
      "cell_type": "code",
      "execution_count": 6,
      "metadata": {
        "colab": {
          "base_uri": "https://localhost:8080/",
          "height": 236
        },
        "id": "vkNJ9ErA7sML",
        "outputId": "5e222c37-6b5d-47a4-f149-2ae391cd1893"
      },
      "outputs": [
        {
          "data": {
            "text/html": [
              "<div>\n",
              "<style scoped>\n",
              "    .dataframe tbody tr th:only-of-type {\n",
              "        vertical-align: middle;\n",
              "    }\n",
              "\n",
              "    .dataframe tbody tr th {\n",
              "        vertical-align: top;\n",
              "    }\n",
              "\n",
              "    .dataframe thead th {\n",
              "        text-align: right;\n",
              "    }\n",
              "</style>\n",
              "<table border=\"1\" class=\"dataframe\">\n",
              "  <thead>\n",
              "    <tr style=\"text-align: right;\">\n",
              "      <th></th>\n",
              "      <th>Year</th>\n",
              "      <th>Team</th>\n",
              "      <th>Age</th>\n",
              "      <th>W</th>\n",
              "      <th>L</th>\n",
              "      <th>PW</th>\n",
              "      <th>PL</th>\n",
              "      <th>MOV</th>\n",
              "      <th>SOS</th>\n",
              "      <th>SRS</th>\n",
              "      <th>...</th>\n",
              "      <th>DRB%</th>\n",
              "      <th>DFT/FGA</th>\n",
              "      <th>Arena</th>\n",
              "      <th>Attend.</th>\n",
              "      <th>Playoffs</th>\n",
              "      <th>W/L%</th>\n",
              "      <th>Losing_season</th>\n",
              "      <th>Champion</th>\n",
              "      <th>won_last</th>\n",
              "      <th>won_last_3</th>\n",
              "    </tr>\n",
              "  </thead>\n",
              "  <tbody>\n",
              "    <tr>\n",
              "      <th>0</th>\n",
              "      <td>2022.0</td>\n",
              "      <td>Atlanta Hawks</td>\n",
              "      <td>26.1</td>\n",
              "      <td>43.0</td>\n",
              "      <td>39.0</td>\n",
              "      <td>45.0</td>\n",
              "      <td>37.0</td>\n",
              "      <td>1.56</td>\n",
              "      <td>-0.01</td>\n",
              "      <td>1.55</td>\n",
              "      <td>...</td>\n",
              "      <td>76.9</td>\n",
              "      <td>0.177</td>\n",
              "      <td>State Farm Arena</td>\n",
              "      <td>672742.0</td>\n",
              "      <td>Y</td>\n",
              "      <td>0.524390</td>\n",
              "      <td>N</td>\n",
              "      <td>N</td>\n",
              "      <td>N</td>\n",
              "      <td>N</td>\n",
              "    </tr>\n",
              "    <tr>\n",
              "      <th>1</th>\n",
              "      <td>2022.0</td>\n",
              "      <td>Boston Celtics</td>\n",
              "      <td>26.1</td>\n",
              "      <td>51.0</td>\n",
              "      <td>31.0</td>\n",
              "      <td>59.0</td>\n",
              "      <td>23.0</td>\n",
              "      <td>7.28</td>\n",
              "      <td>-0.26</td>\n",
              "      <td>7.02</td>\n",
              "      <td>...</td>\n",
              "      <td>77.3</td>\n",
              "      <td>0.183</td>\n",
              "      <td>TD Garden</td>\n",
              "      <td>727928.0</td>\n",
              "      <td>Y</td>\n",
              "      <td>0.621951</td>\n",
              "      <td>N</td>\n",
              "      <td>N</td>\n",
              "      <td>N</td>\n",
              "      <td>N</td>\n",
              "    </tr>\n",
              "    <tr>\n",
              "      <th>2</th>\n",
              "      <td>2022.0</td>\n",
              "      <td>Brooklyn Nets</td>\n",
              "      <td>29.1</td>\n",
              "      <td>44.0</td>\n",
              "      <td>38.0</td>\n",
              "      <td>43.0</td>\n",
              "      <td>39.0</td>\n",
              "      <td>0.78</td>\n",
              "      <td>0.04</td>\n",
              "      <td>0.82</td>\n",
              "      <td>...</td>\n",
              "      <td>75.1</td>\n",
              "      <td>0.201</td>\n",
              "      <td>Barclays Center</td>\n",
              "      <td>711539.0</td>\n",
              "      <td>Y</td>\n",
              "      <td>0.536585</td>\n",
              "      <td>N</td>\n",
              "      <td>N</td>\n",
              "      <td>N</td>\n",
              "      <td>N</td>\n",
              "    </tr>\n",
              "    <tr>\n",
              "      <th>3</th>\n",
              "      <td>2022.0</td>\n",
              "      <td>Charlotte Hornets</td>\n",
              "      <td>25.5</td>\n",
              "      <td>43.0</td>\n",
              "      <td>39.0</td>\n",
              "      <td>42.0</td>\n",
              "      <td>40.0</td>\n",
              "      <td>0.44</td>\n",
              "      <td>0.09</td>\n",
              "      <td>0.53</td>\n",
              "      <td>...</td>\n",
              "      <td>74.8</td>\n",
              "      <td>0.187</td>\n",
              "      <td>Spectrum Center</td>\n",
              "      <td>700755.0</td>\n",
              "      <td>N</td>\n",
              "      <td>0.524390</td>\n",
              "      <td>N</td>\n",
              "      <td>N</td>\n",
              "      <td>N</td>\n",
              "      <td>N</td>\n",
              "    </tr>\n",
              "    <tr>\n",
              "      <th>4</th>\n",
              "      <td>2022.0</td>\n",
              "      <td>Chicago Bulls</td>\n",
              "      <td>26.3</td>\n",
              "      <td>46.0</td>\n",
              "      <td>36.0</td>\n",
              "      <td>40.0</td>\n",
              "      <td>42.0</td>\n",
              "      <td>-0.39</td>\n",
              "      <td>0.02</td>\n",
              "      <td>-0.38</td>\n",
              "      <td>...</td>\n",
              "      <td>78.3</td>\n",
              "      <td>0.199</td>\n",
              "      <td>United Center</td>\n",
              "      <td>856148.0</td>\n",
              "      <td>Y</td>\n",
              "      <td>0.560976</td>\n",
              "      <td>N</td>\n",
              "      <td>N</td>\n",
              "      <td>N</td>\n",
              "      <td>N</td>\n",
              "    </tr>\n",
              "  </tbody>\n",
              "</table>\n",
              "<p>5 rows × 33 columns</p>\n",
              "</div>"
            ],
            "text/plain": [
              "     Year               Team   Age     W     L    PW    PL   MOV   SOS   SRS  \\\n",
              "0  2022.0      Atlanta Hawks  26.1  43.0  39.0  45.0  37.0  1.56 -0.01  1.55   \n",
              "1  2022.0     Boston Celtics  26.1  51.0  31.0  59.0  23.0  7.28 -0.26  7.02   \n",
              "2  2022.0      Brooklyn Nets  29.1  44.0  38.0  43.0  39.0  0.78  0.04  0.82   \n",
              "3  2022.0  Charlotte Hornets  25.5  43.0  39.0  42.0  40.0  0.44  0.09  0.53   \n",
              "4  2022.0      Chicago Bulls  26.3  46.0  36.0  40.0  42.0 -0.39  0.02 -0.38   \n",
              "\n",
              "   ...  DRB%  DFT/FGA             Arena   Attend.  Playoffs      W/L%  \\\n",
              "0  ...  76.9    0.177  State Farm Arena  672742.0         Y  0.524390   \n",
              "1  ...  77.3    0.183         TD Garden  727928.0         Y  0.621951   \n",
              "2  ...  75.1    0.201   Barclays Center  711539.0         Y  0.536585   \n",
              "3  ...  74.8    0.187   Spectrum Center  700755.0         N  0.524390   \n",
              "4  ...  78.3    0.199     United Center  856148.0         Y  0.560976   \n",
              "\n",
              "   Losing_season  Champion  won_last  won_last_3  \n",
              "0              N         N         N           N  \n",
              "1              N         N         N           N  \n",
              "2              N         N         N           N  \n",
              "3              N         N         N           N  \n",
              "4              N         N         N           N  \n",
              "\n",
              "[5 rows x 33 columns]"
            ]
          },
          "execution_count": 6,
          "metadata": {},
          "output_type": "execute_result"
        }
      ],
      "source": [
        "test_dataset = pd.read_csv('data/2022_advanced_data.csv')\n",
        "test_dataset.head()"
      ]
    },
    {
      "cell_type": "code",
      "execution_count": 7,
      "metadata": {
        "id": "XbWZTTtubRSF"
      },
      "outputs": [],
      "source": [
        "test_dataset = test_dataset[test_dataset[\"Playoffs\"] == \"Y\"]"
      ]
    },
    {
      "cell_type": "code",
      "execution_count": 8,
      "metadata": {
        "colab": {
          "base_uri": "https://localhost:8080/"
        },
        "id": "OMDhKhNB5-0N",
        "outputId": "6c7b85d2-391f-4537-94de-e58b777eac2d"
      },
      "outputs": [
        {
          "data": {
            "text/plain": [
              "Index(['Year', 'Team', 'Age', 'W', 'L', 'PW', 'PL', 'MOV', 'SOS', 'SRS',\n",
              "       'ORtg', 'DRtg', 'NRtg', 'Pace', 'FTr', '3PAr', 'TS%', 'OeFG%', 'OTOV%',\n",
              "       'ORB%', 'OFT/FGA', 'DeFG%', 'DTOV%', 'DRB%', 'DFT/FGA', 'Arena',\n",
              "       'Attend.', 'Playoffs', 'W/L%', 'Losing_season', 'Champion', 'won_last',\n",
              "       'won_last_3'],\n",
              "      dtype='object')"
            ]
          },
          "execution_count": 8,
          "metadata": {},
          "output_type": "execute_result"
        }
      ],
      "source": [
        "dataset.columns"
      ]
    },
    {
      "cell_type": "code",
      "execution_count": 9,
      "metadata": {
        "id": "arr0oomV59z5"
      },
      "outputs": [],
      "source": [
        "dataset = dataset.drop(columns=['Playoffs', 'Losing_season', 'Arena', 'L', 'W', 'PW', 'PL', 'Attend.'])\n",
        "test_dataset = test_dataset.drop(columns=['Playoffs', 'Losing_season', 'Arena', 'L', 'W', 'PW', 'PL', 'Attend.'])"
      ]
    },
    {
      "cell_type": "code",
      "execution_count": 10,
      "metadata": {
        "id": "NTEAbUwq5-RW"
      },
      "outputs": [],
      "source": [
        "X = dataset.iloc[:, ~ dataset.columns.isin(['Year', 'Champion', 'Team'])]\n",
        "y = dataset.loc[:, dataset.columns == 'Champion'].values\n",
        "y = np.array([0 if val == \"N\" else 1 for val in y])"
      ]
    },
    {
      "cell_type": "code",
      "execution_count": 11,
      "metadata": {
        "id": "bDN-pUUT71o3"
      },
      "outputs": [],
      "source": [
        "X_test= test_dataset.iloc[:, ~ test_dataset.columns.isin(['Year', 'Champion', 'Team'])]\n",
        "y_test = test_dataset.loc[:, test_dataset.columns == 'Champion'].values\n",
        "y_test = np.array([0 if val == \"N\" else 1 for val in y_test])"
      ]
    },
    {
      "cell_type": "markdown",
      "metadata": {
        "id": "CyMCm5TX6QhG"
      },
      "source": [
        "## Identifying Class Imbalance in Training Set"
      ]
    },
    {
      "cell_type": "code",
      "execution_count": 12,
      "metadata": {
        "colab": {
          "base_uri": "https://localhost:8080/"
        },
        "id": "OKVqi2Qx6Sh6",
        "outputId": "8d848687-5528-4481-b087-9fdfa2271039"
      },
      "outputs": [
        {
          "name": "stdout",
          "output_type": "stream",
          "text": [
            "Examples:\n",
            "    Total: 512\n",
            "    Positive: 32 (6.25% of total)\n",
            "\n"
          ]
        }
      ],
      "source": [
        "neg, pos = np.bincount(y)\n",
        "total = neg + pos\n",
        "print('Examples:\\n    Total: {}\\n    Positive: {} ({:.2f}% of total)\\n'.format(\n",
        "    total, pos, 100 * pos / total))"
      ]
    },
    {
      "cell_type": "markdown",
      "metadata": {
        "id": "o26V6u1_6W1p"
      },
      "source": [
        "## Encode Categorical Values"
      ]
    },
    {
      "cell_type": "code",
      "execution_count": 13,
      "metadata": {
        "colab": {
          "base_uri": "https://localhost:8080/"
        },
        "id": "l8UptW467OZo",
        "outputId": "ce77af7e-a431-427f-9bce-d6bcff280be9"
      },
      "outputs": [
        {
          "data": {
            "text/plain": [
              "Year          float64\n",
              "Team           object\n",
              "Age           float64\n",
              "MOV           float64\n",
              "SOS           float64\n",
              "SRS           float64\n",
              "ORtg          float64\n",
              "DRtg          float64\n",
              "NRtg          float64\n",
              "Pace          float64\n",
              "FTr           float64\n",
              "3PAr          float64\n",
              "TS%           float64\n",
              "OeFG%         float64\n",
              "OTOV%         float64\n",
              "ORB%          float64\n",
              "OFT/FGA       float64\n",
              "DeFG%         float64\n",
              "DTOV%         float64\n",
              "DRB%          float64\n",
              "DFT/FGA       float64\n",
              "W/L%          float64\n",
              "Champion       object\n",
              "won_last       object\n",
              "won_last_3     object\n",
              "dtype: object"
            ]
          },
          "execution_count": 13,
          "metadata": {},
          "output_type": "execute_result"
        }
      ],
      "source": [
        "dataset.dtypes"
      ]
    },
    {
      "cell_type": "code",
      "execution_count": 14,
      "metadata": {
        "id": "23l8YAT96VLx"
      },
      "outputs": [],
      "source": [
        "from sklearn.compose import ColumnTransformer\n",
        "from sklearn.preprocessing import OneHotEncoder\n",
        "#3 because want to one hot encode State variable\n",
        "ct = ColumnTransformer(transformers=[('encoder', OneHotEncoder(), ['won_last', 'won_last_3'])], remainder='passthrough')\n",
        "X = np.array(ct.fit_transform(X))\n",
        "X_test = np.array(ct.transform(X_test))"
      ]
    },
    {
      "cell_type": "markdown",
      "metadata": {
        "id": "kW3c7UYih0hT"
      },
      "source": [
        "## Feature Scaling"
      ]
    },
    {
      "cell_type": "code",
      "execution_count": 15,
      "metadata": {
        "id": "9fQlDPKCh8sc"
      },
      "outputs": [],
      "source": [
        "from sklearn.preprocessing import StandardScaler\n",
        "sc = StandardScaler()\n",
        "X = sc.fit_transform(X)\n",
        "X_test = sc.transform(X_test)"
      ]
    },
    {
      "cell_type": "markdown",
      "metadata": {
        "id": "bb6jCOCQiAmP"
      },
      "source": [
        "## Training the Decision Tree Classification model on the Training set"
      ]
    },
    {
      "cell_type": "code",
      "execution_count": 21,
      "metadata": {
        "colab": {
          "base_uri": "https://localhost:8080/"
        },
        "id": "e0pFVAmciHQs",
        "outputId": "8f941239-306d-4d7f-98ee-085505472a67"
      },
      "outputs": [
        {
          "data": {
            "text/html": [
              "<style>#sk-container-id-2 {color: black;background-color: white;}#sk-container-id-2 pre{padding: 0;}#sk-container-id-2 div.sk-toggleable {background-color: white;}#sk-container-id-2 label.sk-toggleable__label {cursor: pointer;display: block;width: 100%;margin-bottom: 0;padding: 0.3em;box-sizing: border-box;text-align: center;}#sk-container-id-2 label.sk-toggleable__label-arrow:before {content: \"▸\";float: left;margin-right: 0.25em;color: #696969;}#sk-container-id-2 label.sk-toggleable__label-arrow:hover:before {color: black;}#sk-container-id-2 div.sk-estimator:hover label.sk-toggleable__label-arrow:before {color: black;}#sk-container-id-2 div.sk-toggleable__content {max-height: 0;max-width: 0;overflow: hidden;text-align: left;background-color: #f0f8ff;}#sk-container-id-2 div.sk-toggleable__content pre {margin: 0.2em;color: black;border-radius: 0.25em;background-color: #f0f8ff;}#sk-container-id-2 input.sk-toggleable__control:checked~div.sk-toggleable__content {max-height: 200px;max-width: 100%;overflow: auto;}#sk-container-id-2 input.sk-toggleable__control:checked~label.sk-toggleable__label-arrow:before {content: \"▾\";}#sk-container-id-2 div.sk-estimator input.sk-toggleable__control:checked~label.sk-toggleable__label {background-color: #d4ebff;}#sk-container-id-2 div.sk-label input.sk-toggleable__control:checked~label.sk-toggleable__label {background-color: #d4ebff;}#sk-container-id-2 input.sk-hidden--visually {border: 0;clip: rect(1px 1px 1px 1px);clip: rect(1px, 1px, 1px, 1px);height: 1px;margin: -1px;overflow: hidden;padding: 0;position: absolute;width: 1px;}#sk-container-id-2 div.sk-estimator {font-family: monospace;background-color: #f0f8ff;border: 1px dotted black;border-radius: 0.25em;box-sizing: border-box;margin-bottom: 0.5em;}#sk-container-id-2 div.sk-estimator:hover {background-color: #d4ebff;}#sk-container-id-2 div.sk-parallel-item::after {content: \"\";width: 100%;border-bottom: 1px solid gray;flex-grow: 1;}#sk-container-id-2 div.sk-label:hover label.sk-toggleable__label {background-color: #d4ebff;}#sk-container-id-2 div.sk-serial::before {content: \"\";position: absolute;border-left: 1px solid gray;box-sizing: border-box;top: 0;bottom: 0;left: 50%;z-index: 0;}#sk-container-id-2 div.sk-serial {display: flex;flex-direction: column;align-items: center;background-color: white;padding-right: 0.2em;padding-left: 0.2em;position: relative;}#sk-container-id-2 div.sk-item {position: relative;z-index: 1;}#sk-container-id-2 div.sk-parallel {display: flex;align-items: stretch;justify-content: center;background-color: white;position: relative;}#sk-container-id-2 div.sk-item::before, #sk-container-id-2 div.sk-parallel-item::before {content: \"\";position: absolute;border-left: 1px solid gray;box-sizing: border-box;top: 0;bottom: 0;left: 50%;z-index: -1;}#sk-container-id-2 div.sk-parallel-item {display: flex;flex-direction: column;z-index: 1;position: relative;background-color: white;}#sk-container-id-2 div.sk-parallel-item:first-child::after {align-self: flex-end;width: 50%;}#sk-container-id-2 div.sk-parallel-item:last-child::after {align-self: flex-start;width: 50%;}#sk-container-id-2 div.sk-parallel-item:only-child::after {width: 0;}#sk-container-id-2 div.sk-dashed-wrapped {border: 1px dashed gray;margin: 0 0.4em 0.5em 0.4em;box-sizing: border-box;padding-bottom: 0.4em;background-color: white;}#sk-container-id-2 div.sk-label label {font-family: monospace;font-weight: bold;display: inline-block;line-height: 1.2em;}#sk-container-id-2 div.sk-label-container {text-align: center;}#sk-container-id-2 div.sk-container {/* jupyter's `normalize.less` sets `[hidden] { display: none; }` but bootstrap.min.css set `[hidden] { display: none !important; }` so we also need the `!important` here to be able to override the default hidden behavior on the sphinx rendered scikit-learn.org. See: https://github.com/scikit-learn/scikit-learn/issues/21755 */display: inline-block !important;position: relative;}#sk-container-id-2 div.sk-text-repr-fallback {display: none;}</style><div id=\"sk-container-id-2\" class=\"sk-top-container\"><div class=\"sk-text-repr-fallback\"><pre>DecisionTreeClassifier(random_state=323)</pre><b>In a Jupyter environment, please rerun this cell to show the HTML representation or trust the notebook. <br />On GitHub, the HTML representation is unable to render, please try loading this page with nbviewer.org.</b></div><div class=\"sk-container\" hidden><div class=\"sk-item\"><div class=\"sk-estimator sk-toggleable\"><input class=\"sk-toggleable__control sk-hidden--visually\" id=\"sk-estimator-id-2\" type=\"checkbox\" checked><label for=\"sk-estimator-id-2\" class=\"sk-toggleable__label sk-toggleable__label-arrow\">DecisionTreeClassifier</label><div class=\"sk-toggleable__content\"><pre>DecisionTreeClassifier(random_state=323)</pre></div></div></div></div></div>"
            ],
            "text/plain": [
              "DecisionTreeClassifier(random_state=323)"
            ]
          },
          "execution_count": 21,
          "metadata": {},
          "output_type": "execute_result"
        }
      ],
      "source": [
        "from sklearn.tree import DecisionTreeClassifier\n",
        "classifier = DecisionTreeClassifier(random_state=323)\n",
        "classifier.fit(X, y)"
      ]
    },
    {
      "cell_type": "markdown",
      "metadata": {
        "id": "09andsVj8g7y"
      },
      "source": [
        "## Optimizing Hyperparameters"
      ]
    },
    {
      "cell_type": "code",
      "execution_count": 25,
      "metadata": {
        "colab": {
          "base_uri": "https://localhost:8080/"
        },
        "id": "IPZudkOJ8hKv",
        "outputId": "64132ac9-6d07-43f8-c81a-c04adeea5dfd"
      },
      "outputs": [
        {
          "name": "stdout",
          "output_type": "stream",
          "text": [
            "Best F1: 31.33 %\n",
            "Best Parameters: {'ccp_alpha': 0.001, 'criterion': 'gini', 'max_depth': 9, 'max_features': 'sqrt'}\n"
          ]
        }
      ],
      "source": [
        "from sklearn.model_selection import GridSearchCV\n",
        "\n",
        "param_grid= {\n",
        "    'ccp_alpha': [0.1, 0.01, 0.001],\n",
        "    'criterion': ['gini', 'entropy'],\n",
        "    'max_depth': [5, 6, 7, 8, 9],\n",
        "    'max_features': ['sqrt', 'log2']\n",
        "    }\n",
        "\n",
        "#Evaluate through K Fold (cv=10)\n",
        "#N_jobs optional (how to run processors), -1 means to use all processors- optimizes\n",
        "\n",
        "grid_search = GridSearchCV(\n",
        "    estimator = classifier,\n",
        "    param_grid = param_grid,\n",
        "    scoring = 'f1',\n",
        "    cv = 10,\n",
        "    n_jobs = -1\n",
        "    \n",
        "    )\n",
        "\n",
        "grid_search.fit(X, y)\n",
        "best_accuracy = grid_search.best_score_\n",
        "best_parameters = grid_search.best_params_\n",
        "print(\"Best F1: {:.2f} %\".format(best_accuracy*100))\n",
        "print(\"Best Parameters:\", best_parameters)"
      ]
    },
    {
      "cell_type": "markdown",
      "metadata": {
        "id": "YZTC-kOT8NfC"
      },
      "source": [
        "## Performing Cross Validation on the Tree"
      ]
    },
    {
      "cell_type": "code",
      "execution_count": 28,
      "metadata": {
        "colab": {
          "base_uri": "https://localhost:8080/"
        },
        "id": "PZswZLfu8N1U",
        "outputId": "72a41cf2-dab3-4686-848e-2574022cef13"
      },
      "outputs": [],
      "source": [
        "from sklearn.model_selection import cross_validate\n",
        "\n",
        "scoring = {'accuracy': 'accuracy',\n",
        "        #    'precision': 'precision',\n",
        "           'recall': 'recall',\n",
        "           'f1': 'f1'}\n",
        "\n",
        "optimized_classifier = DecisionTreeClassifier(criterion = 'gini',\n",
        "                                              max_depth = 7,\n",
        "                                              max_features = 'sqrt',\n",
        "                                              ccp_alpha = 0.001,\n",
        "                                              random_state = 323)\n",
        "\n",
        "accuracies = cross_validate(estimator = optimized_classifier, X = X, y = y, cv = 10, scoring = scoring)"
      ]
    },
    {
      "cell_type": "code",
      "execution_count": 29,
      "metadata": {
        "colab": {
          "base_uri": "https://localhost:8080/",
          "height": 238
        },
        "id": "m94VYUGbDeL6",
        "outputId": "690609be-b153-4ffe-e607-9a02c9dc4668"
      },
      "outputs": [
        {
          "data": {
            "text/html": [
              "<div>\n",
              "<style scoped>\n",
              "    .dataframe tbody tr th:only-of-type {\n",
              "        vertical-align: middle;\n",
              "    }\n",
              "\n",
              "    .dataframe tbody tr th {\n",
              "        vertical-align: top;\n",
              "    }\n",
              "\n",
              "    .dataframe thead th {\n",
              "        text-align: right;\n",
              "    }\n",
              "</style>\n",
              "<table border=\"1\" class=\"dataframe\">\n",
              "  <thead>\n",
              "    <tr style=\"text-align: right;\">\n",
              "      <th></th>\n",
              "      <th>0</th>\n",
              "      <th>1</th>\n",
              "      <th>2</th>\n",
              "      <th>3</th>\n",
              "      <th>4</th>\n",
              "      <th>5</th>\n",
              "      <th>6</th>\n",
              "      <th>7</th>\n",
              "      <th>8</th>\n",
              "      <th>9</th>\n",
              "      <th>10</th>\n",
              "    </tr>\n",
              "  </thead>\n",
              "  <tbody>\n",
              "    <tr>\n",
              "      <th>0</th>\n",
              "      <td>fit_time</td>\n",
              "      <td>0.006019</td>\n",
              "      <td>0.004534</td>\n",
              "      <td>0.005178</td>\n",
              "      <td>0.005214</td>\n",
              "      <td>0.004337</td>\n",
              "      <td>0.006553</td>\n",
              "      <td>0.011479</td>\n",
              "      <td>0.007159</td>\n",
              "      <td>0.009234</td>\n",
              "      <td>0.009897</td>\n",
              "    </tr>\n",
              "    <tr>\n",
              "      <th>1</th>\n",
              "      <td>score_time</td>\n",
              "      <td>0.027115</td>\n",
              "      <td>0.011438</td>\n",
              "      <td>0.010388</td>\n",
              "      <td>0.009505</td>\n",
              "      <td>0.009568</td>\n",
              "      <td>0.017919</td>\n",
              "      <td>0.019169</td>\n",
              "      <td>0.021125</td>\n",
              "      <td>0.008243</td>\n",
              "      <td>0.029045</td>\n",
              "    </tr>\n",
              "    <tr>\n",
              "      <th>2</th>\n",
              "      <td>test_accuracy</td>\n",
              "      <td>0.961538</td>\n",
              "      <td>0.923077</td>\n",
              "      <td>0.901961</td>\n",
              "      <td>0.960784</td>\n",
              "      <td>0.941176</td>\n",
              "      <td>0.882353</td>\n",
              "      <td>0.960784</td>\n",
              "      <td>0.901961</td>\n",
              "      <td>0.921569</td>\n",
              "      <td>0.882353</td>\n",
              "    </tr>\n",
              "    <tr>\n",
              "      <th>3</th>\n",
              "      <td>test_recall</td>\n",
              "      <td>0.750000</td>\n",
              "      <td>0.500000</td>\n",
              "      <td>0.000000</td>\n",
              "      <td>0.333333</td>\n",
              "      <td>0.000000</td>\n",
              "      <td>0.000000</td>\n",
              "      <td>0.333333</td>\n",
              "      <td>0.000000</td>\n",
              "      <td>0.000000</td>\n",
              "      <td>0.666667</td>\n",
              "    </tr>\n",
              "    <tr>\n",
              "      <th>4</th>\n",
              "      <td>test_f1</td>\n",
              "      <td>0.750000</td>\n",
              "      <td>0.500000</td>\n",
              "      <td>0.000000</td>\n",
              "      <td>0.500000</td>\n",
              "      <td>0.000000</td>\n",
              "      <td>0.000000</td>\n",
              "      <td>0.500000</td>\n",
              "      <td>0.000000</td>\n",
              "      <td>0.000000</td>\n",
              "      <td>0.400000</td>\n",
              "    </tr>\n",
              "  </tbody>\n",
              "</table>\n",
              "</div>"
            ],
            "text/plain": [
              "              0         1         2         3         4         5         6   \\\n",
              "0       fit_time  0.006019  0.004534  0.005178  0.005214  0.004337  0.006553   \n",
              "1     score_time  0.027115  0.011438  0.010388  0.009505  0.009568  0.017919   \n",
              "2  test_accuracy  0.961538  0.923077  0.901961  0.960784  0.941176  0.882353   \n",
              "3    test_recall  0.750000  0.500000  0.000000  0.333333  0.000000  0.000000   \n",
              "4        test_f1  0.750000  0.500000  0.000000  0.500000  0.000000  0.000000   \n",
              "\n",
              "         7         8         9         10  \n",
              "0  0.011479  0.007159  0.009234  0.009897  \n",
              "1  0.019169  0.021125  0.008243  0.029045  \n",
              "2  0.960784  0.901961  0.921569  0.882353  \n",
              "3  0.333333  0.000000  0.000000  0.666667  \n",
              "4  0.500000  0.000000  0.000000  0.400000  "
            ]
          },
          "execution_count": 29,
          "metadata": {},
          "output_type": "execute_result"
        }
      ],
      "source": [
        "#https://stackoverflow.com/questions/51315083/convert-python-dict-of-arrays-into-a-dataframe\n",
        "pd.DataFrame([k, *v] for k, v in accuracies.items())"
      ]
    },
    {
      "cell_type": "markdown",
      "metadata": {
        "id": "vKYVQH-l5NpE"
      },
      "source": [
        "## Predicting the Test set results"
      ]
    },
    {
      "cell_type": "code",
      "execution_count": 30,
      "metadata": {
        "id": "p6VMTb2O4hwM"
      },
      "outputs": [],
      "source": [
        "y_pred = classifier.predict(X_test)\n",
        "test_arrays = np.column_stack([test_dataset[\"Year\"], test_dataset[\"Team\"], y_pred.flatten()])\n",
        "test_df = pd.DataFrame(test_arrays, columns = ['Year', 'Team', 'Prediction'])"
      ]
    },
    {
      "cell_type": "code",
      "execution_count": 31,
      "metadata": {
        "colab": {
          "base_uri": "https://localhost:8080/",
          "height": 551
        },
        "id": "cJlvQIOqEeYB",
        "outputId": "2f0e6dca-0feb-4aa5-c402-4b1afa56f60a"
      },
      "outputs": [
        {
          "data": {
            "text/html": [
              "<div>\n",
              "<style scoped>\n",
              "    .dataframe tbody tr th:only-of-type {\n",
              "        vertical-align: middle;\n",
              "    }\n",
              "\n",
              "    .dataframe tbody tr th {\n",
              "        vertical-align: top;\n",
              "    }\n",
              "\n",
              "    .dataframe thead th {\n",
              "        text-align: right;\n",
              "    }\n",
              "</style>\n",
              "<table border=\"1\" class=\"dataframe\">\n",
              "  <thead>\n",
              "    <tr style=\"text-align: right;\">\n",
              "      <th></th>\n",
              "      <th>Year</th>\n",
              "      <th>Team</th>\n",
              "      <th>Prediction</th>\n",
              "    </tr>\n",
              "  </thead>\n",
              "  <tbody>\n",
              "    <tr>\n",
              "      <th>0</th>\n",
              "      <td>2022.0</td>\n",
              "      <td>Atlanta Hawks</td>\n",
              "      <td>0</td>\n",
              "    </tr>\n",
              "    <tr>\n",
              "      <th>1</th>\n",
              "      <td>2022.0</td>\n",
              "      <td>Boston Celtics</td>\n",
              "      <td>0</td>\n",
              "    </tr>\n",
              "    <tr>\n",
              "      <th>2</th>\n",
              "      <td>2022.0</td>\n",
              "      <td>Brooklyn Nets</td>\n",
              "      <td>0</td>\n",
              "    </tr>\n",
              "    <tr>\n",
              "      <th>3</th>\n",
              "      <td>2022.0</td>\n",
              "      <td>Chicago Bulls</td>\n",
              "      <td>0</td>\n",
              "    </tr>\n",
              "    <tr>\n",
              "      <th>4</th>\n",
              "      <td>2022.0</td>\n",
              "      <td>Dallas Mavericks</td>\n",
              "      <td>0</td>\n",
              "    </tr>\n",
              "    <tr>\n",
              "      <th>5</th>\n",
              "      <td>2022.0</td>\n",
              "      <td>Denver Nuggets</td>\n",
              "      <td>0</td>\n",
              "    </tr>\n",
              "    <tr>\n",
              "      <th>6</th>\n",
              "      <td>2022.0</td>\n",
              "      <td>Golden State Warriors</td>\n",
              "      <td>0</td>\n",
              "    </tr>\n",
              "    <tr>\n",
              "      <th>7</th>\n",
              "      <td>2022.0</td>\n",
              "      <td>Memphis Grizzlies</td>\n",
              "      <td>0</td>\n",
              "    </tr>\n",
              "    <tr>\n",
              "      <th>8</th>\n",
              "      <td>2022.0</td>\n",
              "      <td>Miami Heat</td>\n",
              "      <td>0</td>\n",
              "    </tr>\n",
              "    <tr>\n",
              "      <th>9</th>\n",
              "      <td>2022.0</td>\n",
              "      <td>Milwaukee Bucks</td>\n",
              "      <td>0</td>\n",
              "    </tr>\n",
              "    <tr>\n",
              "      <th>10</th>\n",
              "      <td>2022.0</td>\n",
              "      <td>Minnesota Timberwolves</td>\n",
              "      <td>0</td>\n",
              "    </tr>\n",
              "    <tr>\n",
              "      <th>11</th>\n",
              "      <td>2022.0</td>\n",
              "      <td>New Orleans Pelicans</td>\n",
              "      <td>0</td>\n",
              "    </tr>\n",
              "    <tr>\n",
              "      <th>12</th>\n",
              "      <td>2022.0</td>\n",
              "      <td>Philadelphia 76ers</td>\n",
              "      <td>0</td>\n",
              "    </tr>\n",
              "    <tr>\n",
              "      <th>13</th>\n",
              "      <td>2022.0</td>\n",
              "      <td>Phoenix Suns</td>\n",
              "      <td>1</td>\n",
              "    </tr>\n",
              "    <tr>\n",
              "      <th>14</th>\n",
              "      <td>2022.0</td>\n",
              "      <td>Toronto Raptors</td>\n",
              "      <td>0</td>\n",
              "    </tr>\n",
              "    <tr>\n",
              "      <th>15</th>\n",
              "      <td>2022.0</td>\n",
              "      <td>Utah Jazz</td>\n",
              "      <td>0</td>\n",
              "    </tr>\n",
              "  </tbody>\n",
              "</table>\n",
              "</div>"
            ],
            "text/plain": [
              "      Year                    Team Prediction\n",
              "0   2022.0           Atlanta Hawks          0\n",
              "1   2022.0          Boston Celtics          0\n",
              "2   2022.0           Brooklyn Nets          0\n",
              "3   2022.0           Chicago Bulls          0\n",
              "4   2022.0        Dallas Mavericks          0\n",
              "5   2022.0          Denver Nuggets          0\n",
              "6   2022.0   Golden State Warriors          0\n",
              "7   2022.0       Memphis Grizzlies          0\n",
              "8   2022.0              Miami Heat          0\n",
              "9   2022.0         Milwaukee Bucks          0\n",
              "10  2022.0  Minnesota Timberwolves          0\n",
              "11  2022.0    New Orleans Pelicans          0\n",
              "12  2022.0      Philadelphia 76ers          0\n",
              "13  2022.0            Phoenix Suns          1\n",
              "14  2022.0         Toronto Raptors          0\n",
              "15  2022.0               Utah Jazz          0"
            ]
          },
          "execution_count": 31,
          "metadata": {},
          "output_type": "execute_result"
        }
      ],
      "source": [
        "test_df"
      ]
    },
    {
      "cell_type": "markdown",
      "metadata": {
        "id": "dNvRanjUEs9V"
      },
      "source": [
        "The model predicts the Phoenix Suns to win the 2022 championship!"
      ]
    }
  ],
  "metadata": {
    "colab": {
      "collapsed_sections": [],
      "include_colab_link": true,
      "machine_shape": "hm",
      "name": "Copy of NBA Decision Tree",
      "provenance": []
    },
    "kernelspec": {
      "display_name": "Python 3.10.6 ('venv': venv)",
      "language": "python",
      "name": "python3"
    },
    "language_info": {
      "codemirror_mode": {
        "name": "ipython",
        "version": 3
      },
      "file_extension": ".py",
      "mimetype": "text/x-python",
      "name": "python",
      "nbconvert_exporter": "python",
      "pygments_lexer": "ipython3",
      "version": "3.10.6"
    },
    "vscode": {
      "interpreter": {
        "hash": "8c7fb1509f04aa6739f4ee98284bc089a906977093f13d0e429c2e4fad8d27e8"
      }
    }
  },
  "nbformat": 4,
  "nbformat_minor": 0
}
